{
  "nbformat": 4,
  "nbformat_minor": 0,
  "metadata": {
    "colab": {
      "provenance": []
    },
    "kernelspec": {
      "name": "python3",
      "display_name": "Python 3"
    },
    "language_info": {
      "name": "python"
    }
  },
  "cells": [
    {
      "cell_type": "code",
      "execution_count": 2,
      "metadata": {
        "id": "5QOlUNGNlEwG"
      },
      "outputs": [],
      "source": [
        "import pandas as pd\n",
        "import string\n",
        "import re\n",
        "from sklearn.model_selection import train_test_split\n",
        "from sklearn.feature_extraction.text import TfidfVectorizer\n",
        "\n",
        "# Load data\n",
        "true_df = pd.read_csv(\"True.csv\")\n",
        "fake_df = pd.read_csv(\"Fake.csv\")\n",
        "\n",
        "# Add labels\n",
        "true_df['label'] = 1  # Real\n",
        "fake_df['label'] = 0  # Fake\n",
        "\n",
        "# Combine datasets\n",
        "data = pd.concat([true_df, fake_df], ignore_index=True)\n",
        "\n",
        "# Shuffle data\n",
        "data = data.sample(frac=1).reset_index(drop=True)\n",
        "\n",
        "# Clean text\n",
        "def clean_text(text):\n",
        "    text = text.lower()\n",
        "    text = re.sub(r'https?://\\S+|www\\.\\S+', '', text)  # Remove URLs\n",
        "    text = re.sub(r'[^a-z\\s]', '', text)               # Remove punctuation/numbers\n",
        "    return text\n",
        "\n",
        "data['text'] = data['text'].apply(clean_text)\n"
      ]
    },
    {
      "cell_type": "code",
      "source": [
        "vectorizer = TfidfVectorizer(stop_words='english', max_df=0.7)\n",
        "X = vectorizer.fit_transform(data['text'])\n",
        "y = data['label']"
      ],
      "metadata": {
        "id": "s1IY4Hn1lkzd"
      },
      "execution_count": 3,
      "outputs": []
    },
    {
      "cell_type": "code",
      "source": [
        "from sklearn.linear_model import LogisticRegression\n",
        "from sklearn.metrics import classification_report, accuracy_score\n",
        "\n",
        "# Train/Test split\n",
        "X_train, X_test, y_train, y_test = train_test_split(X, y, test_size=0.2, random_state=42)\n",
        "\n",
        "# Train model\n",
        "model = LogisticRegression()\n",
        "model.fit(X_train, y_train)\n",
        "\n",
        "# Predict\n",
        "y_pred = model.predict(X_test)\n",
        "\n",
        "# Evaluate\n",
        "print(\"Accuracy:\", accuracy_score(y_test, y_pred))\n",
        "print(classification_report(y_test, y_pred))\n"
      ],
      "metadata": {
        "colab": {
          "base_uri": "https://localhost:8080/"
        },
        "id": "2IumVzrklyIG",
        "outputId": "938ef816-c0a7-434c-979a-c57a33363e63"
      },
      "execution_count": 4,
      "outputs": [
        {
          "output_type": "stream",
          "name": "stdout",
          "text": [
            "Accuracy: 0.9869710467706013\n",
            "              precision    recall  f1-score   support\n",
            "\n",
            "           0       0.99      0.99      0.99      4738\n",
            "           1       0.99      0.99      0.99      4242\n",
            "\n",
            "    accuracy                           0.99      8980\n",
            "   macro avg       0.99      0.99      0.99      8980\n",
            "weighted avg       0.99      0.99      0.99      8980\n",
            "\n"
          ]
        }
      ]
    },
    {
      "cell_type": "code",
      "source": [
        "import pickle\n",
        "\n",
        "# Save model\n",
        "with open(\"model.pkl\", \"wb\") as model_file:\n",
        "    pickle.dump(model, model_file)\n",
        "\n",
        "# Save vectorizer\n",
        "with open(\"vectorizer.pkl\", \"wb\") as vec_file:\n",
        "    pickle.dump(vectorizer, vec_file)\n"
      ],
      "metadata": {
        "id": "56OyyQgn4YNK"
      },
      "execution_count": 6,
      "outputs": []
    },
    {
      "cell_type": "code",
      "source": [
        "def predict_news(news_text):\n",
        "    clean = clean_text(news_text)\n",
        "    vect = vectorizer.transform([clean])\n",
        "    prediction = model.predict(vect)\n",
        "    return \"Real\" if prediction[0] == 1 else \"Fake\"\n"
      ],
      "metadata": {
        "id": "w5q6C3TFl4b5"
      },
      "execution_count": 5,
      "outputs": []
    },
    {
      "cell_type": "code",
      "source": [
        "app_code = \"\"\n",
        "import streamlit as st\n",
        "import pickle\n",
        "import re\n",
        "\n",
        "# Load trained model and vectorizer\n",
        "model = pickle.load(open('model.pkl', 'rb'))\n",
        "vectorizer = pickle.load(open('vectorizer.pkl', 'rb'))\n",
        "\n",
        "# Function to clean user input\n",
        "def clean_text(text):\n",
        "    text = text.lower()\n",
        "    text = re.sub(r'https?://\\\\S+|www\\\\.\\\\S+', '', text)  # remove URLs\n",
        "    text = re.sub(r'[^a-z\\\\s]', '', text)                 # remove punctuation/numbers\n",
        "    return text\n",
        "\n",
        "# Prediction function\n",
        "def predict_news(news_text):\n",
        "    clean = clean_text(news_text)\n",
        "    vec = vectorizer.transform([clean])\n",
        "    prediction = model.predict(vec)\n",
        "    return \"🟢 Real News\" if prediction[0] == 1 else \"🔴 Fake News\"\n",
        "\n",
        "# Streamlit App UI\n",
        "st.set_page_config(page_title=\"Fake News Detector\", page_icon=\"📰\")\n",
        "st.title(\"📰 Fake News Detection App\")\n",
        "st.markdown(\"Enter a news article or paragraph, and the model will predict whether it's **Real** or **Fake**.\")\n",
        "\n",
        "# Input field\n",
        "news_input = st.text_area(\"📝 Paste News Article Here\", height=200)\n",
        "\n",
        "# Predict button\n",
        "if st.button(\"🔍 Predict\"):\n",
        "    if news_input.strip() == \"\":\n",
        "        st.warning(\"⚠️ Please enter some text.\")\n",
        "    else:\n",
        "        result = predict_news(news_input)\n",
        "        st.success(f\"Prediction: {result}\")\n",
        "\"\"\n",
        "\n",
        "# Write to app.py\n",
        "with open(\"app.py\", \"w\") as f:\n",
        "    f.write(app_code)\n"
      ],
      "metadata": {
        "colab": {
          "base_uri": "https://localhost:8080/"
        },
        "id": "SeP8L0xe7PHg",
        "outputId": "0524cca5-5f2d-4330-fae7-bf87e80235c1"
      },
      "execution_count": 10,
      "outputs": [
        {
          "output_type": "stream",
          "name": "stderr",
          "text": [
            "2025-07-06 08:49:56.323 Thread 'MainThread': missing ScriptRunContext! This warning can be ignored when running in bare mode.\n",
            "2025-07-06 08:49:56.324 Thread 'MainThread': missing ScriptRunContext! This warning can be ignored when running in bare mode.\n",
            "2025-07-06 08:49:56.325 Thread 'MainThread': missing ScriptRunContext! This warning can be ignored when running in bare mode.\n",
            "2025-07-06 08:49:56.326 Thread 'MainThread': missing ScriptRunContext! This warning can be ignored when running in bare mode.\n",
            "2025-07-06 08:49:56.327 Thread 'MainThread': missing ScriptRunContext! This warning can be ignored when running in bare mode.\n",
            "2025-07-06 08:49:56.327 Thread 'MainThread': missing ScriptRunContext! This warning can be ignored when running in bare mode.\n",
            "2025-07-06 08:49:56.328 Thread 'MainThread': missing ScriptRunContext! This warning can be ignored when running in bare mode.\n",
            "2025-07-06 08:49:56.329 Thread 'MainThread': missing ScriptRunContext! This warning can be ignored when running in bare mode.\n",
            "2025-07-06 08:49:56.329 Thread 'MainThread': missing ScriptRunContext! This warning can be ignored when running in bare mode.\n",
            "2025-07-06 08:49:56.330 Thread 'MainThread': missing ScriptRunContext! This warning can be ignored when running in bare mode.\n",
            "2025-07-06 08:49:56.331 Thread 'MainThread': missing ScriptRunContext! This warning can be ignored when running in bare mode.\n",
            "2025-07-06 08:49:56.332 Thread 'MainThread': missing ScriptRunContext! This warning can be ignored when running in bare mode.\n",
            "2025-07-06 08:49:56.335 Thread 'MainThread': missing ScriptRunContext! This warning can be ignored when running in bare mode.\n",
            "2025-07-06 08:49:56.335 Thread 'MainThread': missing ScriptRunContext! This warning can be ignored when running in bare mode.\n",
            "2025-07-06 08:49:56.336 Thread 'MainThread': missing ScriptRunContext! This warning can be ignored when running in bare mode.\n",
            "2025-07-06 08:49:56.338 Thread 'MainThread': missing ScriptRunContext! This warning can be ignored when running in bare mode.\n",
            "2025-07-06 08:49:56.339 Thread 'MainThread': missing ScriptRunContext! This warning can be ignored when running in bare mode.\n",
            "2025-07-06 08:49:56.340 Thread 'MainThread': missing ScriptRunContext! This warning can be ignored when running in bare mode.\n",
            "2025-07-06 08:49:56.342 Thread 'MainThread': missing ScriptRunContext! This warning can be ignored when running in bare mode.\n",
            "2025-07-06 08:49:56.343 Thread 'MainThread': missing ScriptRunContext! This warning can be ignored when running in bare mode.\n"
          ]
        }
      ]
    }
  ]
}